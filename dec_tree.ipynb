{
 "metadata": {
  "celltoolbar": "Slideshow",
  "name": "",
  "signature": "sha256:fd687ce8dbd50b56d18d9a860f55e2a3a7a3dea6d6cbc362242bc3ba7ec939d2"
 },
 "nbformat": 3,
 "nbformat_minor": 0,
 "worksheets": [
  {
   "cells": [
    {
     "cell_type": "code",
     "collapsed": false,
     "input": [
      "import sympy as sp\n",
      "from math import log\n",
      "import matplotlib.pyplot as plt\n",
      "import pandas as pd\n",
      "from __future__ import division\n",
      "from collections import OrderedDict\n",
      "import seaborn as sns\n",
      "%matplotlib inline\n",
      "p = sp.symbols('p')"
     ],
     "language": "python",
     "metadata": {},
     "outputs": [],
     "prompt_number": 84
    },
    {
     "cell_type": "markdown",
     "metadata": {},
     "source": [
      "From [here](http://ocw.mit.edu/courses/sloan-school-of-management/15-097-prediction-machine-learning-and-statistics-spring-2012/lecture-notes/MIT15_097S12_lec08.pdf)"
     ]
    },
    {
     "cell_type": "markdown",
     "metadata": {},
     "source": [
      "1. [Information Theory](#informationtheory)\n",
      "1. [Gain](#gain)\n",
      "1. [Gain Ratio](#gainratio)\n",
      "1. [Pruning](#pruning)"
     ]
    },
    {
     "cell_type": "markdown",
     "metadata": {},
     "source": [
      "<a id='informationtheory'></a>\n",
      "## Information Theory\n",
      "\n",
      "\"Information\" from observing the occurrence of an event\n",
      "\n",
      ":= # bits needed to encode the probability of the event \n",
      "\n",
      "$I(p)=-\\log_2 p$\n",
      "\n",
      "$I(p)\\geq 0$ between 1 and 0. Information of a 100% probability event is 0.\n",
      "\n",
      "$I(1)=0$\n",
      "\n",
      "$I(p_1\\cdot p_2) = I(p_1) + I(p_2)$ the information from two independent events should be the sum of their informations\n",
      "\n",
      "$I(p)$ is continuous, slight changes in $p$ correspond to slight changes in $p$\n",
      "\n",
      "$I(p^2) = I(p) + I(p) = 2I(p)$\n",
      "\n",
      "$I(p^n) = nI(p)$\n",
      "\n",
      "$I(p^a) = aI(p)$ where $a$ is all positive reals\n",
      "\n",
      "$\\log$ works\n",
      "\n",
      "$I(p) = -\\log_b(p)$ lets use $b=2$\n",
      "\n",
      "$I(p) = -\\log_2(p)$\n"
     ]
    },
    {
     "cell_type": "code",
     "collapsed": false,
     "input": [
      "fx = -1*sp.log(p, 2)"
     ],
     "language": "python",
     "metadata": {},
     "outputs": [],
     "prompt_number": 85
    },
    {
     "cell_type": "code",
     "collapsed": false,
     "input": [
      "sp.plot(fx, xlim=[0, 1], ylim=[0, 10]);"
     ],
     "language": "python",
     "metadata": {},
     "outputs": [
      {
       "metadata": {},
       "output_type": "display_data",
       "png": "[encoded data removed]",
       "text": [
        "<matplotlib.figure.Figure at 0x1108c3e10>"
       ]
      }
     ],
     "prompt_number": 86
    },
    {
     "cell_type": "code",
     "collapsed": false,
     "input": [
      "ip = lambda p: -log(p, 2)"
     ],
     "language": "python",
     "metadata": {},
     "outputs": [],
     "prompt_number": 87
    },
    {
     "cell_type": "code",
     "collapsed": false,
     "input": [
      "# information from a fair coin\n",
      "ip(0.5)"
     ],
     "language": "python",
     "metadata": {},
     "outputs": [
      {
       "metadata": {},
       "output_type": "pyout",
       "prompt_number": 88,
       "text": [
        "1.0"
       ]
      }
     ],
     "prompt_number": 88
    },
    {
     "cell_type": "code",
     "collapsed": false,
     "input": [
      "# from an unfair coin\n",
      "# much more information when we get the unlikely outcome\n",
      "ip(0.99), ip(0.01)"
     ],
     "language": "python",
     "metadata": {},
     "outputs": [
      {
       "metadata": {},
       "output_type": "pyout",
       "prompt_number": 89,
       "text": [
        "(0.01449956969511509, 6.643856189774724)"
       ]
      }
     ],
     "prompt_number": 89
    },
    {
     "cell_type": "markdown",
     "metadata": {},
     "source": [
      "Now if we had a lot of events, what's the mean information of those events?\n",
      "\n",
      "Assume events \n",
      "\n",
      "$v_1, \\dots, v_n$\n",
      "\n",
      "occur with probabilities\n",
      "\n",
      "$p_1, \\dots, p_n$\n",
      "\n",
      "$\\mathbf{E}_{p\\sim[p_1,\\dots,p_2]}I(p)$ = (The expected value of $I(p)$)\n",
      "\n",
      "$\\displaystyle\\sum_{j=1}^J p_jI(p_j) =$ (information times its likelihood)\n",
      "\n",
      "$-\\displaystyle\\sum_j p_j\\log_2 p_j:=H(\\mathbf{p})$ (where $\\mathbf{p}$ is the vector $[p_1,\\dots p_2])$\n",
      "\n",
      "$H(\\mathbf{p})$ is called the **entropy** of discrete distribution $\\mathbf{p}$. Measured in bits"
     ]
    },
    {
     "cell_type": "code",
     "collapsed": false,
     "input": [
      "def entropy(P):\n",
      "    assert sum(P)==1\n",
      "    P = sorted(P, reverse=True)\n",
      "    if P[0]==1:\n",
      "        return 0\n",
      "    else:\n",
      "        return sum([-p*log(p, 2) for p in P])"
     ],
     "language": "python",
     "metadata": {},
     "outputs": [],
     "prompt_number": 90
    },
    {
     "cell_type": "code",
     "collapsed": false,
     "input": [
      "p = [0, 1]\n",
      "entropy(p)\n",
      "\n",
      "log(1, 2)\n",
      "p = [0.5, 0.5]\n",
      "entropy(p)"
     ],
     "language": "python",
     "metadata": {},
     "outputs": [
      {
       "metadata": {},
       "output_type": "pyout",
       "prompt_number": 91,
       "text": [
        "1.0"
       ]
      }
     ],
     "prompt_number": 91
    },
    {
     "cell_type": "code",
     "collapsed": false,
     "input": [
      "entropy([0.99, 0.01])"
     ],
     "language": "python",
     "metadata": {},
     "outputs": [
      {
       "metadata": {},
       "output_type": "pyout",
       "prompt_number": 92,
       "text": [
        "0.08079313589591118"
       ]
      }
     ],
     "prompt_number": 92
    },
    {
     "cell_type": "code",
     "collapsed": false,
     "input": [
      "entropy([.9999, .0001])"
     ],
     "language": "python",
     "metadata": {},
     "outputs": [
      {
       "metadata": {},
       "output_type": "pyout",
       "prompt_number": 93,
       "text": [
        "0.0014730335283281598"
       ]
      }
     ],
     "prompt_number": 93
    },
    {
     "cell_type": "code",
     "collapsed": false,
     "input": [
      "entropy([.99999, .00001])"
     ],
     "language": "python",
     "metadata": {},
     "outputs": [
      {
       "metadata": {},
       "output_type": "pyout",
       "prompt_number": 94,
       "text": [
        "0.00018052328301819962"
       ]
      }
     ],
     "prompt_number": 94
    },
    {
     "cell_type": "markdown",
     "metadata": {},
     "source": [
      "As one of the probabilities in $\\mathbf{p}$ goes to 1,\n",
      "\n",
      "$H(\\mathbf{p})\\to 0$\n",
      "\n",
      "which is what we want\n",
      "\n",
      "Back to C4.5, which uses Information Gain as the splitting criteria"
     ]
    },
    {
     "cell_type": "code",
     "collapsed": false,
     "input": [
      "data_file = '/Users/idris/learning/algos/decision_tree/data/restaurant.csv'\n",
      "df = pd.DataFrame.from_csv(data_file)\n",
      "df"
     ],
     "language": "python",
     "metadata": {},
     "outputs": [
      {
       "html": [
        "<div style=\"max-height:1000px;max-width:1500px;overflow:auto;\">\n",
        "<table border=\"1\" class=\"dataframe\">\n",
        "  <thead>\n",
        "    <tr style=\"text-align: right;\">\n",
        "      <th></th>\n",
        "      <th>alt</th>\n",
        "      <th>bar</th>\n",
        "      <th>fri</th>\n",
        "      <th>hun</th>\n",
        "      <th>pat</th>\n",
        "      <th>price</th>\n",
        "      <th>rain</th>\n",
        "      <th>res</th>\n",
        "      <th>type</th>\n",
        "      <th>est</th>\n",
        "      <th>willwait</th>\n",
        "    </tr>\n",
        "    <tr>\n",
        "      <th>example</th>\n",
        "      <th></th>\n",
        "      <th></th>\n",
        "      <th></th>\n",
        "      <th></th>\n",
        "      <th></th>\n",
        "      <th></th>\n",
        "      <th></th>\n",
        "      <th></th>\n",
        "      <th></th>\n",
        "      <th></th>\n",
        "      <th></th>\n",
        "    </tr>\n",
        "  </thead>\n",
        "  <tbody>\n",
        "    <tr>\n",
        "      <th>x1</th>\n",
        "      <td> yes</td>\n",
        "      <td>  no</td>\n",
        "      <td>  no</td>\n",
        "      <td> yes</td>\n",
        "      <td> some</td>\n",
        "      <td> $$$</td>\n",
        "      <td>  no</td>\n",
        "      <td> yes</td>\n",
        "      <td>  french</td>\n",
        "      <td>  0-10</td>\n",
        "      <td> yes</td>\n",
        "    </tr>\n",
        "    <tr>\n",
        "      <th>x2</th>\n",
        "      <td> yes</td>\n",
        "      <td>  no</td>\n",
        "      <td>  no</td>\n",
        "      <td> yes</td>\n",
        "      <td> full</td>\n",
        "      <td>   $</td>\n",
        "      <td>  no</td>\n",
        "      <td>  no</td>\n",
        "      <td>    thai</td>\n",
        "      <td> 30-60</td>\n",
        "      <td>  no</td>\n",
        "    </tr>\n",
        "    <tr>\n",
        "      <th>x3</th>\n",
        "      <td>  no</td>\n",
        "      <td> yes</td>\n",
        "      <td>  no</td>\n",
        "      <td>  no</td>\n",
        "      <td> some</td>\n",
        "      <td>   $</td>\n",
        "      <td>  no</td>\n",
        "      <td>  no</td>\n",
        "      <td>  burger</td>\n",
        "      <td>  0-10</td>\n",
        "      <td> yes</td>\n",
        "    </tr>\n",
        "    <tr>\n",
        "      <th>x4</th>\n",
        "      <td> yes</td>\n",
        "      <td>  no</td>\n",
        "      <td> yes</td>\n",
        "      <td> yes</td>\n",
        "      <td> full</td>\n",
        "      <td>   $</td>\n",
        "      <td>  no</td>\n",
        "      <td>  no</td>\n",
        "      <td>    thai</td>\n",
        "      <td> 10-30</td>\n",
        "      <td> yes</td>\n",
        "    </tr>\n",
        "    <tr>\n",
        "      <th>x5</th>\n",
        "      <td> yes</td>\n",
        "      <td>  no</td>\n",
        "      <td> yes</td>\n",
        "      <td>  no</td>\n",
        "      <td> full</td>\n",
        "      <td> $$$</td>\n",
        "      <td>  no</td>\n",
        "      <td> yes</td>\n",
        "      <td>  french</td>\n",
        "      <td>   &gt;60</td>\n",
        "      <td>  no</td>\n",
        "    </tr>\n",
        "    <tr>\n",
        "      <th>x6</th>\n",
        "      <td>  no</td>\n",
        "      <td> yes</td>\n",
        "      <td>  no</td>\n",
        "      <td> yes</td>\n",
        "      <td> some</td>\n",
        "      <td>  $$</td>\n",
        "      <td> yes</td>\n",
        "      <td> yes</td>\n",
        "      <td> italian</td>\n",
        "      <td>  0-10</td>\n",
        "      <td> yes</td>\n",
        "    </tr>\n",
        "    <tr>\n",
        "      <th>x7</th>\n",
        "      <td>  no</td>\n",
        "      <td> yes</td>\n",
        "      <td>  no</td>\n",
        "      <td>  no</td>\n",
        "      <td> none</td>\n",
        "      <td>   $</td>\n",
        "      <td> yes</td>\n",
        "      <td>  no</td>\n",
        "      <td>  burger</td>\n",
        "      <td>  0-10</td>\n",
        "      <td>  no</td>\n",
        "    </tr>\n",
        "    <tr>\n",
        "      <th>x8</th>\n",
        "      <td>  no</td>\n",
        "      <td>  no</td>\n",
        "      <td>  no</td>\n",
        "      <td> yes</td>\n",
        "      <td> some</td>\n",
        "      <td>  $$</td>\n",
        "      <td> yes</td>\n",
        "      <td> yes</td>\n",
        "      <td>    thai</td>\n",
        "      <td>  0-10</td>\n",
        "      <td> yes</td>\n",
        "    </tr>\n",
        "    <tr>\n",
        "      <th>x9</th>\n",
        "      <td>  no</td>\n",
        "      <td> yes</td>\n",
        "      <td> yes</td>\n",
        "      <td>  no</td>\n",
        "      <td> full</td>\n",
        "      <td>   $</td>\n",
        "      <td> yes</td>\n",
        "      <td>  no</td>\n",
        "      <td>  burger</td>\n",
        "      <td>   &gt;60</td>\n",
        "      <td>  no</td>\n",
        "    </tr>\n",
        "    <tr>\n",
        "      <th>x10</th>\n",
        "      <td> yes</td>\n",
        "      <td> yes</td>\n",
        "      <td> yes</td>\n",
        "      <td> yes</td>\n",
        "      <td> full</td>\n",
        "      <td> $$$</td>\n",
        "      <td>  no</td>\n",
        "      <td> yes</td>\n",
        "      <td> italian</td>\n",
        "      <td> 10-30</td>\n",
        "      <td>  no</td>\n",
        "    </tr>\n",
        "    <tr>\n",
        "      <th>x11</th>\n",
        "      <td>  no</td>\n",
        "      <td>  no</td>\n",
        "      <td>  no</td>\n",
        "      <td>  no</td>\n",
        "      <td> none</td>\n",
        "      <td>   $</td>\n",
        "      <td>  no</td>\n",
        "      <td>  no</td>\n",
        "      <td>    thai</td>\n",
        "      <td>  0-10</td>\n",
        "      <td>  no</td>\n",
        "    </tr>\n",
        "    <tr>\n",
        "      <th>x12</th>\n",
        "      <td> yes</td>\n",
        "      <td> yes</td>\n",
        "      <td> yes</td>\n",
        "      <td> yes</td>\n",
        "      <td> full</td>\n",
        "      <td>   $</td>\n",
        "      <td>  no</td>\n",
        "      <td>  no</td>\n",
        "      <td>  burger</td>\n",
        "      <td> 30-60</td>\n",
        "      <td> yes</td>\n",
        "    </tr>\n",
        "  </tbody>\n",
        "</table>\n",
        "</div>"
       ],
       "metadata": {},
       "output_type": "pyout",
       "prompt_number": 95,
       "text": [
        "         alt  bar  fri  hun   pat price rain  res     type    est willwait\n",
        "example                                                                   \n",
        "x1       yes   no   no  yes  some   $$$   no  yes   french   0-10      yes\n",
        "x2       yes   no   no  yes  full     $   no   no     thai  30-60       no\n",
        "x3        no  yes   no   no  some     $   no   no   burger   0-10      yes\n",
        "x4       yes   no  yes  yes  full     $   no   no     thai  10-30      yes\n",
        "x5       yes   no  yes   no  full   $$$   no  yes   french    >60       no\n",
        "x6        no  yes   no  yes  some    $$  yes  yes  italian   0-10      yes\n",
        "x7        no  yes   no   no  none     $  yes   no   burger   0-10       no\n",
        "x8        no   no   no  yes  some    $$  yes  yes     thai   0-10      yes\n",
        "x9        no  yes  yes   no  full     $  yes   no   burger    >60       no\n",
        "x10      yes  yes  yes  yes  full   $$$   no  yes  italian  10-30       no\n",
        "x11       no   no   no   no  none     $   no   no     thai   0-10       no\n",
        "x12      yes  yes  yes  yes  full     $   no   no   burger  30-60      yes"
       ]
      }
     ],
     "prompt_number": 95
    },
    {
     "cell_type": "markdown",
     "metadata": {},
     "source": [
      "<a id='gain'></a>\n",
      "## Gain\n",
      "\n",
      "Remember, trying to predict 'willwait'\n",
      "\n",
      "In each branch $j$, we have $pos_j$ positivies and $neg_j$ negatives\n",
      "\n",
      "Training probabilities in branch $j$ are:\n",
      "\n",
      "$\\left[\\dfrac{\\#pos_j}{\\#pos_j+\\#neg_j}, \\dfrac{\\#neg_j}{\\#pos_j+\\#neg_j}\\right]$\n",
      "\n",
      "Information Gain = expected reduction in entropy due to branching on attribute $A$\n",
      "\n",
      "= original entropy - entropy after branching\n",
      "\n",
      "$\n",
      "= H\\left(\\left[\\dfrac{\\#pos_j}{\\#pos_j+\\#neg_j}, \\dfrac{\\#neg_j}{\\#pos_j+\\#neg_j}\\right]\\right)\n",
      "-\\displaystyle\\sum_{j=1}^J \\dfrac{\\#pos_j+\\#neg_j}{\\#pos + \\#neg}\\cdot \n",
      "H\\left(\\left[\\dfrac{\\#pos_j}{\\#pos_j+\\#neg_j}, \\dfrac{\\#neg_j}{\\#pos_j+\\#neg_j}\\right]\\right)\n",
      "$\n",
      "\n",
      "---\n",
      "Terms explained\n",
      "\n",
      "$\n",
      "H\\left(\\left[\\dfrac{\\#pos_j}{\\#pos_j+\\#neg_j}, \\dfrac{\\#neg_j}{\\#pos_j+\\#neg_j}\\right]\\right)\n",
      "$\n",
      "* entropy before splitting\n",
      "\n",
      "\n",
      "$\n",
      "\\dfrac{\\#pos_j+\\#neg_j}{\\#pos + \\#neg}\n",
      "$\n",
      "* coefficient for entropy of branch so branches with more observations are more heavily weighed\n",
      "\n",
      "$\n",
      "H\\left(\\left[\\dfrac{\\#pos_j}{\\#pos_j+\\#neg_j}, \\dfrac{\\#neg_j}{\\#pos_j+\\#neg_j}\\right]\\right)\n",
      "$\n",
      "\n",
      "* entropy of new branch"
     ]
    },
    {
     "cell_type": "code",
     "collapsed": false,
     "input": [
      "# following the example\n",
      "entropy([.5, .5]) - 2/12*entropy([0, 1]) - 4/12*entropy([1, 0]) - 6/12*entropy([2/6, 4/6])"
     ],
     "language": "python",
     "metadata": {},
     "outputs": [
      {
       "metadata": {},
       "output_type": "pyout",
       "prompt_number": 96,
       "text": [
        "0.5408520829727552"
       ]
      }
     ],
     "prompt_number": 96
    },
    {
     "cell_type": "code",
     "collapsed": false,
     "input": [
      "# and here's some code\n",
      "\n",
      "def entropy_after_branch(df, split_col, criteria_col):\n",
      "    \"\"\"\n",
      "    df: dataframe of data\n",
      "    split_col: column to branch on\n",
      "    criteria_col: column to test for entropy\n",
      "    \n",
      "    return \n",
      "    total: total entropy post split\n",
      "    \"\"\"\n",
      "    \n",
      "    n = df.shape[0]\n",
      "    total_ent = 0\n",
      "    for i in df[split_col].unique():\n",
      "        # subset by split\n",
      "        mydf= df[criteria_col][df[split_col]==i]\n",
      "        # get counts of observations per branch\n",
      "        g = mydf.groupby(df[criteria_col])\n",
      "        P = g.count() / len(mydf)\n",
      "        total_ent = total_ent + (mydf.shape[0] / n) * entropy(P)\n",
      "\n",
      "    return total_ent"
     ],
     "language": "python",
     "metadata": {},
     "outputs": [],
     "prompt_number": 97
    },
    {
     "cell_type": "code",
     "collapsed": false,
     "input": [
      "# some gain\n",
      "entropy([0.5, 0.5]) - entropy_after_branch(df, 'pat', 'willwait')"
     ],
     "language": "python",
     "metadata": {},
     "outputs": [
      {
       "metadata": {},
       "output_type": "pyout",
       "prompt_number": 98,
       "text": [
        "0.54085208297275522"
       ]
      }
     ],
     "prompt_number": 98
    },
    {
     "cell_type": "code",
     "collapsed": false,
     "input": [
      "# no gain\n",
      "entropy([0.5, 0.5]) - entropy_after_branch(df, 'type', 'willwait')"
     ],
     "language": "python",
     "metadata": {},
     "outputs": [
      {
       "metadata": {},
       "output_type": "pyout",
       "prompt_number": 99,
       "text": [
        "1.1102230246251565e-16"
       ]
      }
     ],
     "prompt_number": 99
    },
    {
     "cell_type": "code",
     "collapsed": false,
     "input": [
      "# notice that splitting on type gives all 50/50 ratios\n",
      "pd.crosstab(df.type, df.willwait)"
     ],
     "language": "python",
     "metadata": {},
     "outputs": [
      {
       "html": [
        "<div style=\"max-height:1000px;max-width:1500px;overflow:auto;\">\n",
        "<table border=\"1\" class=\"dataframe\">\n",
        "  <thead>\n",
        "    <tr style=\"text-align: right;\">\n",
        "      <th>willwait</th>\n",
        "      <th>no</th>\n",
        "      <th>yes</th>\n",
        "    </tr>\n",
        "    <tr>\n",
        "      <th>type</th>\n",
        "      <th></th>\n",
        "      <th></th>\n",
        "    </tr>\n",
        "  </thead>\n",
        "  <tbody>\n",
        "    <tr>\n",
        "      <th>burger</th>\n",
        "      <td> 2</td>\n",
        "      <td> 2</td>\n",
        "    </tr>\n",
        "    <tr>\n",
        "      <th>french</th>\n",
        "      <td> 1</td>\n",
        "      <td> 1</td>\n",
        "    </tr>\n",
        "    <tr>\n",
        "      <th>italian</th>\n",
        "      <td> 1</td>\n",
        "      <td> 1</td>\n",
        "    </tr>\n",
        "    <tr>\n",
        "      <th>thai</th>\n",
        "      <td> 2</td>\n",
        "      <td> 2</td>\n",
        "    </tr>\n",
        "  </tbody>\n",
        "</table>\n",
        "</div>"
       ],
       "metadata": {},
       "output_type": "pyout",
       "prompt_number": 100,
       "text": [
        "willwait  no  yes\n",
        "type             \n",
        "burger     2    2\n",
        "french     1    1\n",
        "italian    1    1\n",
        "thai       2    2"
       ]
      }
     ],
     "prompt_number": 100
    },
    {
     "cell_type": "code",
     "collapsed": false,
     "input": [
      "splits = df.columns# - ['willwait']\n",
      "df_split = pd.DataFrame(zip(splits, [entropy_after_branch(df, split, 'willwait') for split in splits]), columns=['split', 'entropy'])\n",
      "df_split = df_split.set_index('split')\n",
      "df_split.sort('entropy').plot(kind='bar');"
     ],
     "language": "python",
     "metadata": {},
     "outputs": [
      {
       "metadata": {},
       "output_type": "display_data",
       "png": "[encoded data removed]",
       "text": [
        "<matplotlib.figure.Figure at 0x1108b2410>"
       ]
      }
     ],
     "prompt_number": 101
    },
    {
     "cell_type": "markdown",
     "metadata": {},
     "source": [
      "* The $gain$ is the $entropy_{before} - entropy_{after}$, so we want to minimize $entropy_{after}$, which is done with 'pat'\n",
      "* note if we split on 'willwait', then we're perfect. But 'willwait' is what we're trying to predict\n",
      "* In general we want to choose the feature $A$ that maximizes $Gain(S, A)$\n",
      "* One problem with $gain$ is that it likes to partition too much, and favors many splits\n",
      "    * for example, if each branch contained only 1 example\n",
      "    * $H(\\mathbf{p}) = 0$ for all $j$\n",
      "    * which would be perfect, but overfit"
     ]
    },
    {
     "cell_type": "markdown",
     "metadata": {},
     "source": [
      "---\n",
      "<a id='gainratio'></a>\n",
      "## Gain Ratio\n",
      "###SplitInfo\n",
      "\n",
      "We want a large gain, but also want small partitions. We'll choose according to \n",
      "\n",
      "$\\dfrac{\\operatorname{Gain}(S, A)\\leftarrow\\text{want large}}{\\operatorname{SplitInfo}(S, A)\\leftarrow\\text{want small}}$\n",
      "\n",
      "$\\operatorname{SplitInfo}=-\\displaystyle\\sum_{j=1}^J\\dfrac{\\left|S_j\\right|}{\\left|S\\right|}\\log\\left(\\dfrac{\\left|S_j\\right|}{\\left|S\\right|}\\right)$\n",
      "\n",
      "* $\\left|S_j\\right|$ is the number of examples in branch $j$\n",
      "* want each term in the sum to be large\n",
      "* means we want $\\dfrac{\\left|S_j\\right|}{\\left|S\\right|}$ to be large, ie closer to 1. 1 is it's max\n",
      "* meaning we want lots of example in each branch\n",
      "\n",
      "Keep Splitting until:\n",
      "* no more examples left\n",
      "* all examples have the same class\n",
      "* no more attributes to split"
     ]
    },
    {
     "cell_type": "code",
     "collapsed": false,
     "input": [
      "# the log of a fraction is always negative, hence flipping the sign\n",
      "x = sp.symbols('x')\n",
      "fx = sp.log(x, 2)\n",
      "sp.plot(fx, xlim=[0, 1], title='log x', ylim=[-10, 2]);"
     ],
     "language": "python",
     "metadata": {},
     "outputs": [
      {
       "metadata": {},
       "output_type": "display_data",
       "png": "[encoded data removed]",
       "text": [
        "<matplotlib.figure.Figure at 0x110a8af90>"
       ]
      }
     ],
     "prompt_number": 102
    },
    {
     "cell_type": "code",
     "collapsed": false,
     "input": [
      "s_j = range(1, 12)"
     ],
     "language": "python",
     "metadata": {},
     "outputs": [],
     "prompt_number": 103
    },
    {
     "cell_type": "code",
     "collapsed": false,
     "input": [
      "def split_info(S_j):\n",
      "    S = sum(S_j)\n",
      "    return -sum([s_j/S * log(s_j / S) for s_j in S_j])"
     ],
     "language": "python",
     "metadata": {},
     "outputs": [],
     "prompt_number": 104
    },
    {
     "cell_type": "code",
     "collapsed": false,
     "input": [
      "# blame this guy for bugs http://stackoverflow.com/questions/10035752/elegant-python-code-for-integer-partitioning\n",
      "def partition(number):\n",
      "     answer = set()\n",
      "     answer.add((number, ))\n",
      "     for x in range(1, number):\n",
      "         for y in partition(number - x):\n",
      "             answer.add(tuple(sorted((x, ) + y)))\n",
      "     return answer"
     ],
     "language": "python",
     "metadata": {},
     "outputs": [],
     "prompt_number": 105
    },
    {
     "cell_type": "code",
     "collapsed": false,
     "input": [
      "splits = list(partition(6))\n",
      "splits.sort(key = lambda x: len(x))\n",
      "df_splits = pd.DataFrame(zip(splits, [split_info(_) for _ in splits]), columns = ['group', 'splitinfo'])\n",
      "df_splits = df_splits.set_index(df_splits['group'])\n",
      "del df_splits['group']\n",
      "df_splits = df_splits.sort('splitinfo')\n",
      "df_splits.plot(figsize=(8,8));"
     ],
     "language": "python",
     "metadata": {},
     "outputs": [
      {
       "metadata": {},
       "output_type": "display_data",
       "png": "[encoded data removed]",
       "text": [
        "<matplotlib.figure.Figure at 0x110914310>"
       ]
      }
     ],
     "prompt_number": 106
    },
    {
     "cell_type": "code",
     "collapsed": false,
     "input": [
      "# see how splitinfo prefers smaller groups\n",
      "# and for a given group size, prefers more unequal sizes\n",
      "df_splits"
     ],
     "language": "python",
     "metadata": {},
     "outputs": [
      {
       "html": [
        "<div style=\"max-height:1000px;max-width:1500px;overflow:auto;\">\n",
        "<table border=\"1\" class=\"dataframe\">\n",
        "  <thead>\n",
        "    <tr style=\"text-align: right;\">\n",
        "      <th></th>\n",
        "      <th>splitinfo</th>\n",
        "    </tr>\n",
        "    <tr>\n",
        "      <th>group</th>\n",
        "      <th></th>\n",
        "    </tr>\n",
        "  </thead>\n",
        "  <tbody>\n",
        "    <tr>\n",
        "      <th>(6,)</th>\n",
        "      <td>-0.000</td>\n",
        "    </tr>\n",
        "    <tr>\n",
        "      <th>(1, 5)</th>\n",
        "      <td> 0.451</td>\n",
        "    </tr>\n",
        "    <tr>\n",
        "      <th>(2, 4)</th>\n",
        "      <td> 0.637</td>\n",
        "    </tr>\n",
        "    <tr>\n",
        "      <th>(3, 3)</th>\n",
        "      <td> 0.693</td>\n",
        "    </tr>\n",
        "    <tr>\n",
        "      <th>(1, 1, 4)</th>\n",
        "      <td> 0.868</td>\n",
        "    </tr>\n",
        "    <tr>\n",
        "      <th>(1, 2, 3)</th>\n",
        "      <td> 1.011</td>\n",
        "    </tr>\n",
        "    <tr>\n",
        "      <th>(2, 2, 2)</th>\n",
        "      <td> 1.099</td>\n",
        "    </tr>\n",
        "    <tr>\n",
        "      <th>(1, 1, 1, 3)</th>\n",
        "      <td> 1.242</td>\n",
        "    </tr>\n",
        "    <tr>\n",
        "      <th>(1, 1, 2, 2)</th>\n",
        "      <td> 1.330</td>\n",
        "    </tr>\n",
        "    <tr>\n",
        "      <th>(1, 1, 1, 1, 2)</th>\n",
        "      <td> 1.561</td>\n",
        "    </tr>\n",
        "    <tr>\n",
        "      <th>(1, 1, 1, 1, 1, 1)</th>\n",
        "      <td> 1.792</td>\n",
        "    </tr>\n",
        "  </tbody>\n",
        "</table>\n",
        "</div>"
       ],
       "metadata": {},
       "output_type": "pyout",
       "prompt_number": 107,
       "text": [
        "                    splitinfo\n",
        "group                        \n",
        "(6,)                   -0.000\n",
        "(1, 5)                  0.451\n",
        "(2, 4)                  0.637\n",
        "(3, 3)                  0.693\n",
        "(1, 1, 4)               0.868\n",
        "(1, 2, 3)               1.011\n",
        "(2, 2, 2)               1.099\n",
        "(1, 1, 1, 3)            1.242\n",
        "(1, 1, 2, 2)            1.330\n",
        "(1, 1, 1, 1, 2)         1.561\n",
        "(1, 1, 1, 1, 1, 1)      1.792"
       ]
      }
     ],
     "prompt_number": 107
    },
    {
     "cell_type": "code",
     "collapsed": false,
     "input": [
      "pd.options.display.float_format = '{:,.3f}'.format\n",
      "splits = df.columns - ['willwait']\n",
      "# entropy after branch\n",
      "eab = [1.0- entropy_after_branch(df, split, 'willwait' ) for split in splits]\n",
      "# splitinfo after branch\n",
      "siab = [split_info(df['willwait'].groupby(df[split]).count().tolist()) for split in splits]\n",
      "groups = [df['willwait'].groupby(df[split]).count().tolist() for split in splits]\n",
      "df_gainratio = pd.DataFrame(zip(splits, eab, siab, groups), columns = ['split', 'gain', 'split_info', 'groups'])\n",
      "df_gainratio['gain_ratio'] = df_gainratio['gain'] / df_gainratio['split_info']\n",
      "df_gainratio.sort('gain_ratio', ascending=False)\n",
      "\n",
      "# So splitting on 'pat' gives the best non-nonsense split. Agrees with lecture notes"
     ],
     "language": "python",
     "metadata": {},
     "outputs": [
      {
       "html": [
        "<div style=\"max-height:1000px;max-width:1500px;overflow:auto;\">\n",
        "<table border=\"1\" class=\"dataframe\">\n",
        "  <thead>\n",
        "    <tr style=\"text-align: right;\">\n",
        "      <th></th>\n",
        "      <th>split</th>\n",
        "      <th>gain</th>\n",
        "      <th>split_info</th>\n",
        "      <th>groups</th>\n",
        "      <th>gain_ratio</th>\n",
        "    </tr>\n",
        "  </thead>\n",
        "  <tbody>\n",
        "    <tr>\n",
        "      <th>5</th>\n",
        "      <td>   pat</td>\n",
        "      <td>0.541</td>\n",
        "      <td>1.011</td>\n",
        "      <td>    [6, 2, 4]</td>\n",
        "      <td>0.535</td>\n",
        "    </tr>\n",
        "    <tr>\n",
        "      <th>4</th>\n",
        "      <td>   hun</td>\n",
        "      <td>0.196</td>\n",
        "      <td>0.679</td>\n",
        "      <td>       [5, 7]</td>\n",
        "      <td>0.288</td>\n",
        "    </tr>\n",
        "    <tr>\n",
        "      <th>6</th>\n",
        "      <td> price</td>\n",
        "      <td>0.196</td>\n",
        "      <td>0.960</td>\n",
        "      <td>    [7, 2, 3]</td>\n",
        "      <td>0.204</td>\n",
        "    </tr>\n",
        "    <tr>\n",
        "      <th>2</th>\n",
        "      <td>   est</td>\n",
        "      <td>0.208</td>\n",
        "      <td>1.242</td>\n",
        "      <td> [6, 2, 2, 2]</td>\n",
        "      <td>0.167</td>\n",
        "    </tr>\n",
        "    <tr>\n",
        "      <th>3</th>\n",
        "      <td>   fri</td>\n",
        "      <td>0.021</td>\n",
        "      <td>0.679</td>\n",
        "      <td>       [7, 5]</td>\n",
        "      <td>0.031</td>\n",
        "    </tr>\n",
        "    <tr>\n",
        "      <th>8</th>\n",
        "      <td>   res</td>\n",
        "      <td>0.021</td>\n",
        "      <td>0.679</td>\n",
        "      <td>       [7, 5]</td>\n",
        "      <td>0.031</td>\n",
        "    </tr>\n",
        "    <tr>\n",
        "      <th>9</th>\n",
        "      <td>  type</td>\n",
        "      <td>0.000</td>\n",
        "      <td>1.330</td>\n",
        "      <td> [4, 2, 2, 4]</td>\n",
        "      <td>0.000</td>\n",
        "    </tr>\n",
        "    <tr>\n",
        "      <th>0</th>\n",
        "      <td>   alt</td>\n",
        "      <td>0.000</td>\n",
        "      <td>0.693</td>\n",
        "      <td>       [6, 6]</td>\n",
        "      <td>0.000</td>\n",
        "    </tr>\n",
        "    <tr>\n",
        "      <th>1</th>\n",
        "      <td>   bar</td>\n",
        "      <td>0.000</td>\n",
        "      <td>0.693</td>\n",
        "      <td>       [6, 6]</td>\n",
        "      <td>0.000</td>\n",
        "    </tr>\n",
        "    <tr>\n",
        "      <th>7</th>\n",
        "      <td>  rain</td>\n",
        "      <td>0.000</td>\n",
        "      <td>0.637</td>\n",
        "      <td>       [8, 4]</td>\n",
        "      <td>0.000</td>\n",
        "    </tr>\n",
        "  </tbody>\n",
        "</table>\n",
        "</div>"
       ],
       "metadata": {},
       "output_type": "pyout",
       "prompt_number": 108,
       "text": [
        "   split  gain  split_info        groups  gain_ratio\n",
        "5    pat 0.541       1.011     [6, 2, 4]       0.535\n",
        "4    hun 0.196       0.679        [5, 7]       0.288\n",
        "6  price 0.196       0.960     [7, 2, 3]       0.204\n",
        "2    est 0.208       1.242  [6, 2, 2, 2]       0.167\n",
        "3    fri 0.021       0.679        [7, 5]       0.031\n",
        "8    res 0.021       0.679        [7, 5]       0.031\n",
        "9   type 0.000       1.330  [4, 2, 2, 4]       0.000\n",
        "0    alt 0.000       0.693        [6, 6]       0.000\n",
        "1    bar 0.000       0.693        [6, 6]       0.000\n",
        "7   rain 0.000       0.637        [8, 4]       0.000"
       ]
      }
     ],
     "prompt_number": 108
    },
    {
     "cell_type": "code",
     "collapsed": false,
     "input": [
      "# we can stop splitting on 'none' and 'some' since they all agree\n",
      "pd.crosstab(df.willwait, df.pat)"
     ],
     "language": "python",
     "metadata": {},
     "outputs": [
      {
       "html": [
        "<div style=\"max-height:1000px;max-width:1500px;overflow:auto;\">\n",
        "<table border=\"1\" class=\"dataframe\">\n",
        "  <thead>\n",
        "    <tr style=\"text-align: right;\">\n",
        "      <th>pat</th>\n",
        "      <th>full</th>\n",
        "      <th>none</th>\n",
        "      <th>some</th>\n",
        "    </tr>\n",
        "    <tr>\n",
        "      <th>willwait</th>\n",
        "      <th></th>\n",
        "      <th></th>\n",
        "      <th></th>\n",
        "    </tr>\n",
        "  </thead>\n",
        "  <tbody>\n",
        "    <tr>\n",
        "      <th>no</th>\n",
        "      <td> 4</td>\n",
        "      <td> 2</td>\n",
        "      <td> 0</td>\n",
        "    </tr>\n",
        "    <tr>\n",
        "      <th>yes</th>\n",
        "      <td> 2</td>\n",
        "      <td> 0</td>\n",
        "      <td> 4</td>\n",
        "    </tr>\n",
        "  </tbody>\n",
        "</table>\n",
        "</div>"
       ],
       "metadata": {},
       "output_type": "pyout",
       "prompt_number": 109,
       "text": [
        "pat       full  none  some\n",
        "willwait                  \n",
        "no           4     2     0\n",
        "yes          2     0     4"
       ]
      }
     ],
     "prompt_number": 109
    },
    {
     "cell_type": "code",
     "collapsed": false,
     "input": [
      "df = df[df['pat'] =='full']\n",
      "df"
     ],
     "language": "python",
     "metadata": {},
     "outputs": [
      {
       "html": [
        "<div style=\"max-height:1000px;max-width:1500px;overflow:auto;\">\n",
        "<table border=\"1\" class=\"dataframe\">\n",
        "  <thead>\n",
        "    <tr style=\"text-align: right;\">\n",
        "      <th></th>\n",
        "      <th>alt</th>\n",
        "      <th>bar</th>\n",
        "      <th>fri</th>\n",
        "      <th>hun</th>\n",
        "      <th>pat</th>\n",
        "      <th>price</th>\n",
        "      <th>rain</th>\n",
        "      <th>res</th>\n",
        "      <th>type</th>\n",
        "      <th>est</th>\n",
        "      <th>willwait</th>\n",
        "    </tr>\n",
        "    <tr>\n",
        "      <th>example</th>\n",
        "      <th></th>\n",
        "      <th></th>\n",
        "      <th></th>\n",
        "      <th></th>\n",
        "      <th></th>\n",
        "      <th></th>\n",
        "      <th></th>\n",
        "      <th></th>\n",
        "      <th></th>\n",
        "      <th></th>\n",
        "      <th></th>\n",
        "    </tr>\n",
        "  </thead>\n",
        "  <tbody>\n",
        "    <tr>\n",
        "      <th>x2</th>\n",
        "      <td> yes</td>\n",
        "      <td>  no</td>\n",
        "      <td>  no</td>\n",
        "      <td> yes</td>\n",
        "      <td> full</td>\n",
        "      <td>   $</td>\n",
        "      <td>  no</td>\n",
        "      <td>  no</td>\n",
        "      <td>    thai</td>\n",
        "      <td> 30-60</td>\n",
        "      <td>  no</td>\n",
        "    </tr>\n",
        "    <tr>\n",
        "      <th>x4</th>\n",
        "      <td> yes</td>\n",
        "      <td>  no</td>\n",
        "      <td> yes</td>\n",
        "      <td> yes</td>\n",
        "      <td> full</td>\n",
        "      <td>   $</td>\n",
        "      <td>  no</td>\n",
        "      <td>  no</td>\n",
        "      <td>    thai</td>\n",
        "      <td> 10-30</td>\n",
        "      <td> yes</td>\n",
        "    </tr>\n",
        "    <tr>\n",
        "      <th>x5</th>\n",
        "      <td> yes</td>\n",
        "      <td>  no</td>\n",
        "      <td> yes</td>\n",
        "      <td>  no</td>\n",
        "      <td> full</td>\n",
        "      <td> $$$</td>\n",
        "      <td>  no</td>\n",
        "      <td> yes</td>\n",
        "      <td>  french</td>\n",
        "      <td>   &gt;60</td>\n",
        "      <td>  no</td>\n",
        "    </tr>\n",
        "    <tr>\n",
        "      <th>x9</th>\n",
        "      <td>  no</td>\n",
        "      <td> yes</td>\n",
        "      <td> yes</td>\n",
        "      <td>  no</td>\n",
        "      <td> full</td>\n",
        "      <td>   $</td>\n",
        "      <td> yes</td>\n",
        "      <td>  no</td>\n",
        "      <td>  burger</td>\n",
        "      <td>   &gt;60</td>\n",
        "      <td>  no</td>\n",
        "    </tr>\n",
        "    <tr>\n",
        "      <th>x10</th>\n",
        "      <td> yes</td>\n",
        "      <td> yes</td>\n",
        "      <td> yes</td>\n",
        "      <td> yes</td>\n",
        "      <td> full</td>\n",
        "      <td> $$$</td>\n",
        "      <td>  no</td>\n",
        "      <td> yes</td>\n",
        "      <td> italian</td>\n",
        "      <td> 10-30</td>\n",
        "      <td>  no</td>\n",
        "    </tr>\n",
        "    <tr>\n",
        "      <th>x12</th>\n",
        "      <td> yes</td>\n",
        "      <td> yes</td>\n",
        "      <td> yes</td>\n",
        "      <td> yes</td>\n",
        "      <td> full</td>\n",
        "      <td>   $</td>\n",
        "      <td>  no</td>\n",
        "      <td>  no</td>\n",
        "      <td>  burger</td>\n",
        "      <td> 30-60</td>\n",
        "      <td> yes</td>\n",
        "    </tr>\n",
        "  </tbody>\n",
        "</table>\n",
        "</div>"
       ],
       "metadata": {},
       "output_type": "pyout",
       "prompt_number": 110,
       "text": [
        "         alt  bar  fri  hun   pat price rain  res     type    est willwait\n",
        "example                                                                   \n",
        "x2       yes   no   no  yes  full     $   no   no     thai  30-60       no\n",
        "x4       yes   no  yes  yes  full     $   no   no     thai  10-30      yes\n",
        "x5       yes   no  yes   no  full   $$$   no  yes   french    >60       no\n",
        "x9        no  yes  yes   no  full     $  yes   no   burger    >60       no\n",
        "x10      yes  yes  yes  yes  full   $$$   no  yes  italian  10-30       no\n",
        "x12      yes  yes  yes  yes  full     $   no   no   burger  30-60      yes"
       ]
      }
     ],
     "prompt_number": 110
    },
    {
     "cell_type": "code",
     "collapsed": false,
     "input": [
      "splits = df.columns - ['willwait', 'pat']\n",
      "# entropy after branch\n",
      "eab = [1.0- entropy_after_branch(df, split, 'willwait' ) for split in splits]\n",
      "# splitinfo after branch\n",
      "siab = [split_info(df['willwait'].groupby(df[split]).count().tolist()) for split in splits]\n",
      "groups = [df['willwait'].groupby(df[split]).count().tolist() for split in splits]\n",
      "df_gainratio = pd.DataFrame(zip(splits, eab, siab, groups), columns = ['split', 'gain', 'split_info', 'groups'])\n",
      "df_gainratio['gain_ratio'] = df_gainratio['gain'] / df_gainratio['split_info']\n",
      "df_gainratio.sort('gain_ratio', ascending=False)\n",
      "\n",
      "# So splitting on 'pat' gives the best non-nonsense split. Agrees with lecture notes"
     ],
     "language": "python",
     "metadata": {},
     "outputs": [
      {
       "html": [
        "<div style=\"max-height:1000px;max-width:1500px;overflow:auto;\">\n",
        "<table border=\"1\" class=\"dataframe\">\n",
        "  <thead>\n",
        "    <tr style=\"text-align: right;\">\n",
        "      <th></th>\n",
        "      <th>split</th>\n",
        "      <th>gain</th>\n",
        "      <th>split_info</th>\n",
        "      <th>groups</th>\n",
        "      <th>gain_ratio</th>\n",
        "    </tr>\n",
        "  </thead>\n",
        "  <tbody>\n",
        "    <tr>\n",
        "      <th>4</th>\n",
        "      <td>   hun</td>\n",
        "      <td>0.333</td>\n",
        "      <td>0.637</td>\n",
        "      <td>       [2, 4]</td>\n",
        "      <td>0.524</td>\n",
        "    </tr>\n",
        "    <tr>\n",
        "      <th>5</th>\n",
        "      <td> price</td>\n",
        "      <td>0.333</td>\n",
        "      <td>0.637</td>\n",
        "      <td>       [4, 2]</td>\n",
        "      <td>0.524</td>\n",
        "    </tr>\n",
        "    <tr>\n",
        "      <th>7</th>\n",
        "      <td>   res</td>\n",
        "      <td>0.333</td>\n",
        "      <td>0.637</td>\n",
        "      <td>       [4, 2]</td>\n",
        "      <td>0.524</td>\n",
        "    </tr>\n",
        "    <tr>\n",
        "      <th>0</th>\n",
        "      <td>   alt</td>\n",
        "      <td>0.191</td>\n",
        "      <td>0.451</td>\n",
        "      <td>       [1, 5]</td>\n",
        "      <td>0.424</td>\n",
        "    </tr>\n",
        "    <tr>\n",
        "      <th>3</th>\n",
        "      <td>   fri</td>\n",
        "      <td>0.191</td>\n",
        "      <td>0.451</td>\n",
        "      <td>       [1, 5]</td>\n",
        "      <td>0.424</td>\n",
        "    </tr>\n",
        "    <tr>\n",
        "      <th>6</th>\n",
        "      <td>  rain</td>\n",
        "      <td>0.191</td>\n",
        "      <td>0.451</td>\n",
        "      <td>       [5, 1]</td>\n",
        "      <td>0.424</td>\n",
        "    </tr>\n",
        "    <tr>\n",
        "      <th>2</th>\n",
        "      <td>   est</td>\n",
        "      <td>0.333</td>\n",
        "      <td>1.099</td>\n",
        "      <td>    [2, 2, 2]</td>\n",
        "      <td>0.303</td>\n",
        "    </tr>\n",
        "    <tr>\n",
        "      <th>8</th>\n",
        "      <td>  type</td>\n",
        "      <td>0.333</td>\n",
        "      <td>1.330</td>\n",
        "      <td> [2, 1, 1, 2]</td>\n",
        "      <td>0.251</td>\n",
        "    </tr>\n",
        "    <tr>\n",
        "      <th>1</th>\n",
        "      <td>   bar</td>\n",
        "      <td>0.082</td>\n",
        "      <td>0.693</td>\n",
        "      <td>       [3, 3]</td>\n",
        "      <td>0.118</td>\n",
        "    </tr>\n",
        "  </tbody>\n",
        "</table>\n",
        "</div>"
       ],
       "metadata": {},
       "output_type": "pyout",
       "prompt_number": 111,
       "text": [
        "   split  gain  split_info        groups  gain_ratio\n",
        "4    hun 0.333       0.637        [2, 4]       0.524\n",
        "5  price 0.333       0.637        [4, 2]       0.524\n",
        "7    res 0.333       0.637        [4, 2]       0.524\n",
        "0    alt 0.191       0.451        [1, 5]       0.424\n",
        "3    fri 0.191       0.451        [1, 5]       0.424\n",
        "6   rain 0.191       0.451        [5, 1]       0.424\n",
        "2    est 0.333       1.099     [2, 2, 2]       0.303\n",
        "8   type 0.333       1.330  [2, 1, 1, 2]       0.251\n",
        "1    bar 0.082       0.693        [3, 3]       0.118"
       ]
      }
     ],
     "prompt_number": 111
    },
    {
     "cell_type": "code",
     "collapsed": false,
     "input": [
      "# we can stop splitting on 'no'-hungry since they'll all not wait\n",
      "pd.crosstab(df.willwait, df.hun)"
     ],
     "language": "python",
     "metadata": {},
     "outputs": [
      {
       "html": [
        "<div style=\"max-height:1000px;max-width:1500px;overflow:auto;\">\n",
        "<table border=\"1\" class=\"dataframe\">\n",
        "  <thead>\n",
        "    <tr style=\"text-align: right;\">\n",
        "      <th>hun</th>\n",
        "      <th>no</th>\n",
        "      <th>yes</th>\n",
        "    </tr>\n",
        "    <tr>\n",
        "      <th>willwait</th>\n",
        "      <th></th>\n",
        "      <th></th>\n",
        "    </tr>\n",
        "  </thead>\n",
        "  <tbody>\n",
        "    <tr>\n",
        "      <th>no</th>\n",
        "      <td> 2</td>\n",
        "      <td> 2</td>\n",
        "    </tr>\n",
        "    <tr>\n",
        "      <th>yes</th>\n",
        "      <td> 0</td>\n",
        "      <td> 2</td>\n",
        "    </tr>\n",
        "  </tbody>\n",
        "</table>\n",
        "</div>"
       ],
       "metadata": {},
       "output_type": "pyout",
       "prompt_number": 112,
       "text": [
        "hun       no  yes\n",
        "willwait         \n",
        "no         2    2\n",
        "yes        0    2"
       ]
      }
     ],
     "prompt_number": 112
    },
    {
     "cell_type": "code",
     "collapsed": false,
     "input": [
      "# we disagree with the notes here. Confident I'm correct. \n",
      "df = df[df['hun']=='yes']"
     ],
     "language": "python",
     "metadata": {},
     "outputs": [],
     "prompt_number": 113
    },
    {
     "cell_type": "markdown",
     "metadata": {},
     "source": [
      "### Other Splitting Criteria"
     ]
    },
    {
     "cell_type": "markdown",
     "metadata": {},
     "source": [
      "* C4.5 uses information gain for splitting\n",
      "* CART uses the GINI Index\n",
      "    * only has binary splits"
     ]
    },
    {
     "cell_type": "markdown",
     "metadata": {},
     "source": [
      "<a id='pruning'></a>\n",
      "## Pruning"
     ]
    },
    {
     "cell_type": "code",
     "collapsed": false,
     "input": [],
     "language": "python",
     "metadata": {},
     "outputs": []
    }
   ],
   "metadata": {}
  }
 ]
}